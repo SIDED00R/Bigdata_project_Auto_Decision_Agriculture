{
 "cells": [
  {
   "cell_type": "code",
   "execution_count": 1,
   "id": "d695dd25",
   "metadata": {},
   "outputs": [
    {
     "name": "stderr",
     "output_type": "stream",
     "text": [
      "24/06/06 19:38:08 WARN NativeCodeLoader: Unable to load native-hadoop library for your platform... using builtin-java classes where applicable\n",
      "Using Spark's default log4j profile: org/apache/spark/log4j-defaults.properties\n",
      "Setting default log level to \"WARN\".\n",
      "To adjust logging level use sc.setLogLevel(newLevel). For SparkR, use setLogLevel(newLevel).\n",
      "24/06/06 19:38:10 WARN Utils: Service 'SparkUI' could not bind on port 4040. Attempting port 4041.\n"
     ]
    }
   ],
   "source": [
    "import os\n",
    "os.environ[\"SPARK_HOME\"] = \"/home/hadoop/spark\"\n",
    "\n",
    "import findspark\n",
    "findspark.init()\n",
    "\n",
    "import pyspark\n",
    "sc = pyspark.SparkContext(appName = \"tomato\")\n",
    "\n",
    "from pyspark.sql import SQLContext\n",
    "sqlContext = SQLContext(sc)"
   ]
  },
  {
   "cell_type": "code",
   "execution_count": 2,
   "id": "42c19f8f",
   "metadata": {},
   "outputs": [
    {
     "name": "stderr",
     "output_type": "stream",
     "text": [
      "24/06/06 17:02:12 WARN Utils: Truncated the string representation of a plan since it was too large. This behavior can be adjusted by setting 'spark.debug.maxToStringFields' in SparkEnv.conf.\n",
      "                                                                                \r"
     ]
    }
   ],
   "source": [
    "from pyspark.sql import SparkSession\n",
    "from pyspark.sql import functions as F\n",
    "from pyspark.sql import types as T\n",
    "import os\n",
    "\n",
    "# 새로운 SparkSession 생성\n",
    "spark = SparkSession.builder \\\n",
    "    .appName(\"Tomato Data Analysis\") \\\n",
    "    .getOrCreate()\n",
    "\n",
    "# 경로 설정\n",
    "data_path=\"tomato/\"\n",
    "# CSV 파일 리스트\n",
    "csv_files = [\n",
    "    \"TOMATO_FLOWER_CLUSTER_HEIGHT_ENV_20231123.csv\",\n",
    "    \"TOMATO_FLOWER_NUM_ENV_20231123.csv\",\n",
    "    \"TOMATO_FLOWER_PER_TRUSS_ENV_20231123.csv\",\n",
    "    \"TOMATO_FRUIT_LEN_ENV_20231123.csv\",\n",
    "    \"TOMATO_FRUIT_PER_TRUSS_ENV_20231123.csv\",\n",
    "    \"TOMATO_FRUIT_SETTING_ENV_20231123.csv\",\n",
    "    \"TOMATO_FRUIT_WEIGHT_ENV_20231123.csv\",\n",
    "    \"TOMATO_FRUIT_WIDTH_ENV_20231123.csv\",\n",
    "    \"TOMATO_GROWTH_LENGTH_ENV_20231123.csv\",\n",
    "    \"TOMATO_HARVEST_ENV_20231123.csv\",\n",
    "    \"TOMATO_HARVEST_ENV_20231204.csv\",\n",
    "    \"TOMATO_HARVEST_PER_TRUSS_ENV_20231123.csv\",\n",
    "    \"TOMATO_LAST_FLOWERING_BUD_ENV_20231123.csv\",\n",
    "    \"TOMATO_LEAF_LEN_ENV_20231123.csv\",\n",
    "    \"TOMATO_LEAF_NUM_ENV_20231123.csv\",\n",
    "    \"TOMATO_LEAF_WIDTH_ENV_20231123.csv\",\n",
    "    \"TOMATO_SOIL_SURFACE_LEN_ENV_20231123.csv\",\n",
    "    \"TOMATO_STEM_THICKNESS_ENV_20231123.csv\"\n",
    "]\n",
    "\n",
    "# 모든 파일에서 열 이름 수집\n",
    "all_columns = set()\n",
    "for file in csv_files:\n",
    "    df = spark.read.csv(data_path+file, header=True, inferSchema=True)\n",
    "    all_columns.update(df.columns)\n",
    "\n",
    "all_columns = list(all_columns)\n",
    "all_columns.remove(\"MSRM_DT\")  # MSRM_DT는 중복으로 처리하지 않음\n",
    "all_columns = [\"MSRM_DT\"] + all_columns\n",
    "\n",
    "# 각 파일을 읽어와서 데이터 채우기\n",
    "dataframes = []\n",
    "for file in csv_files:\n",
    "    df = spark.read.csv(os.path.join(data_path, file), header=True, inferSchema=True)\n",
    "    df = df.drop(\"ZONE_NM\")  # ZONE_NM 열 제거\n",
    "    for col in all_columns:\n",
    "        if col not in df.columns:\n",
    "            df = df.withColumn(col, F.lit(None).cast(T.StringType()))\n",
    "    dataframes.append(df.select(all_columns))\n",
    "\n",
    "# 모든 데이터프레임 병합\n",
    "merged_df = dataframes[0]\n",
    "for df in dataframes[1:]:\n",
    "    merged_df = merged_df.union(df)\n",
    "\n",
    "# 중복된 열에 대한 평균 계산\n",
    "agg_exprs = []\n",
    "for col in merged_df.columns:\n",
    "    if col != \"MSRM_DT\":\n",
    "        agg_exprs.append(F.mean(col).alias(col))\n",
    "\n",
    "final_df = merged_df.groupBy(\"MSRM_DT\").agg(*agg_exprs)\n",
    "final_df_sorted = final_df.orderBy(\"MSRM_DT\")\n",
    "\n",
    "# 통합된 데이터 저장\n",
    "output_path = \"/home/hadoop/bigdata_project/test_merge_tomato_data.csv\"\n",
    "final_df_sorted.coalesce(1).write.csv(output_path, header=True, mode='overwrite')"
   ]
  },
  {
   "cell_type": "code",
   "execution_count": 2,
   "id": "9f7e2a1e",
   "metadata": {},
   "outputs": [
    {
     "name": "stdout",
     "output_type": "stream",
     "text": [
      "                         MSRM_DT  ABSLT_HMDT  INNER_TPRT_1  FRST_CLUSTER  \\\n",
      "0  2022-10-07T10:15:00.000+09:00       13.80         23.55           NaN   \n",
      "1  2022-10-07T10:20:00.000+09:00       13.95         23.50           NaN   \n",
      "2  2022-10-07T10:25:00.000+09:00       13.90         23.35           NaN   \n",
      "3  2022-10-07T10:30:00.000+09:00       14.15         23.00           NaN   \n",
      "4  2022-10-07T10:35:00.000+09:00       13.60         24.40           NaN   \n",
      "\n",
      "   CLR_OPRT_YN_2  SPRYN_DEVICE  FRST_TREE_CNT  TRWVLV_OPDR_RATE_2  \\\n",
      "0            0.0           1.0            NaN               100.0   \n",
      "1            0.0           0.0            NaN               100.0   \n",
      "2            0.0           0.0            NaN               100.0   \n",
      "3            0.0           0.0            NaN               100.0   \n",
      "4            0.0           1.0            NaN               100.0   \n",
      "\n",
      "   SKLT_OPMD_2_LEFT  SKLT_OPMD_1_LEFT  ...  LEAF_LNGTH  RTTN_PUMP_OPRT_YN_2  \\\n",
      "0               0.0               1.0  ...       420.1                  0.0   \n",
      "1               0.0               1.0  ...       420.1                  0.0   \n",
      "2               0.0               1.0  ...       420.1                  0.0   \n",
      "3               0.0               1.0  ...       420.1                  0.0   \n",
      "4               0.0               1.0  ...       420.1                  0.0   \n",
      "\n",
      "   PLT_LNGTH  CLR_OPRT_YN_3  HRZNT_SCRN_OPDR_RATE_2  TRWVLV_OPMD_1  \\\n",
      "0    1061.92            0.0                   100.0            0.0   \n",
      "1    1061.92            0.0                   100.0            0.0   \n",
      "2    1061.92            0.0                   100.0            0.0   \n",
      "3    1061.92            0.0                   100.0            0.0   \n",
      "4    1061.92            0.0                   100.0            0.0   \n",
      "\n",
      "   FMGEQ_OPRT_YN  INNER_HMDT_1  NTSLT_SPL_ELCDT  CBDX_GNRT_OPMD  \n",
      "0            0.0         63.55              3.4             0.0  \n",
      "1            0.0         64.50              3.4             0.0  \n",
      "2            0.0         64.85              3.4             0.0  \n",
      "3            0.0         67.40              3.4             0.0  \n",
      "4            0.0         59.50              3.4             0.0  \n",
      "\n",
      "[5 rows x 89 columns]\n"
     ]
    }
   ],
   "source": [
    "import pandas as pd\n",
    "\n",
    "# 파일 경로 설정\n",
    "file_path = \"bigdata_project/test_merge_tomato_data.csv/part-00000-6fe08533-7d31-4459-a9a1-2a81375fa6ad-c000.csv\"\n",
    "\n",
    "# pandas를 사용하여 CSV 파일 불러오기\n",
    "df = pd.read_csv(file_path)\n",
    "\n",
    "# 상위 5개 행 출력\n",
    "print(df.head())\n"
   ]
  },
  {
   "cell_type": "code",
   "execution_count": null,
   "id": "86967db7",
   "metadata": {},
   "outputs": [],
   "source": []
  }
 ],
 "metadata": {
  "kernelspec": {
   "display_name": "Python 3 (ipykernel)",
   "language": "python",
   "name": "python3"
  },
  "language_info": {
   "codemirror_mode": {
    "name": "ipython",
    "version": 3
   },
   "file_extension": ".py",
   "mimetype": "text/x-python",
   "name": "python",
   "nbconvert_exporter": "python",
   "pygments_lexer": "ipython3",
   "version": "3.7.5"
  }
 },
 "nbformat": 4,
 "nbformat_minor": 5
}
